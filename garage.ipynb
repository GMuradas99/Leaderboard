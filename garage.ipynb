{
 "cells": [
  {
   "cell_type": "code",
   "execution_count": 29,
   "metadata": {},
   "outputs": [
    {
     "name": "stdout",
     "output_type": "stream",
     "text": [
      "pygame 2.5.0 (SDL 2.28.0, Python 3.11.3)\n",
      "Hello from the pygame community. https://www.pygame.org/contribute.html\n"
     ]
    }
   ],
   "source": [
    "import pygame\n",
    "\n",
    "import re\n",
    "\n",
    "import pandas as pd\n",
    "\n",
    "from random import choice\n",
    "\n",
    "from Classes.apiInteraction import ScienceDayAPI\n",
    "# from Classes.leaderboard import Leaderboard"
   ]
  },
  {
   "cell_type": "code",
   "execution_count": 33,
   "metadata": {},
   "outputs": [],
   "source": [
    "pygame.init()\n",
    "\n",
    "font = pygame.font.Font('fonts/Montserrat-Bold.ttf', 7)"
   ]
  },
  {
   "cell_type": "code",
   "execution_count": 16,
   "metadata": {},
   "outputs": [],
   "source": [
    "class googleSheetsAPI:\n",
    "    def __init__(self, url: str) -> None:\n",
    "        # Regular expression to match and capture the necessary part of the URL\n",
    "        pattern = r'https://docs\\.google\\.com/spreadsheets/d/([a-zA-Z0-9-_]+)(/edit#gid=(\\d+)|/edit.*)?'\n",
    "\n",
    "        # Replace function to construct the new URL for CSV export\n",
    "        # If gid is present in the URL, it includes it in the export URL, otherwise, it's omitted\n",
    "        replacement = lambda m: f'https://docs.google.com/spreadsheets/d/{m.group(1)}/export?' + (f'gid={m.group(3)}&' if m.group(3) else '') + 'format=csv'\n",
    "\n",
    "        # Replace using regex\n",
    "        self.url = re.sub(pattern, replacement, url)\n",
    "\n",
    "    def dataFrame(self):\n",
    "        return pd.read_csv(self.url)\n",
    "    \n",
    "    def getParticipants(self) -> dict:\n",
    "        for row in self.dataFrame().iterrows():\n",
    "            print(type(row))"
   ]
  },
  {
   "cell_type": "code",
   "execution_count": 27,
   "metadata": {},
   "outputs": [
    {
     "data": {
      "text/plain": [
       "{0: {'player_alias': 'Juanjo', 'player_score': 0},\n",
       " 1: {'player_alias': 'Gonzalo', 'player_score': 0},\n",
       " 2: {'player_alias': 'Valentina', 'player_score': 4},\n",
       " 3: {'player_alias': 'Nacha', 'player_score': 0}}"
      ]
     },
     "execution_count": 27,
     "metadata": {},
     "output_type": "execute_result"
    }
   ],
   "source": [
    "class googleSheetsAPI:\n",
    "    def __init__(self, url: str) -> None:\n",
    "        # Regular expression to match and capture the necessary part of the URL\n",
    "        pattern = r'https://docs\\.google\\.com/spreadsheets/d/([a-zA-Z0-9-_]+)(/edit#gid=(\\d+)|/edit.*)?'\n",
    "\n",
    "        # Replace function to construct the new URL for CSV export\n",
    "        # If gid is present in the URL, it includes it in the export URL, otherwise, it's omitted\n",
    "        replacement = lambda m: f'https://docs.google.com/spreadsheets/d/{m.group(1)}/export?' + (f'gid={m.group(3)}&' if m.group(3) else '') + 'format=csv'\n",
    "\n",
    "        # Replace using regex\n",
    "        self.url = re.sub(pattern, replacement, url)\n",
    "\n",
    "    def dataFrame(self):\n",
    "        return pd.read_csv(self.url)\n",
    "    \n",
    "    def getParticipants(self) -> dict:\n",
    "        \"\"\"Returns a dictionary with the id of the participants as keys for all participants\n",
    "        \"\"\"\n",
    "\n",
    "        results = {}\n",
    "        for i,row in self.dataFrame().iterrows():\n",
    "            results[i] = {'player_alias': row['Name'], 'player_score': row['Score']}\n",
    "\n",
    "        return results\n",
    "\n",
    "url = 'https://docs.google.com/spreadsheets/d/13Y20gPTdVBM-RplFddVTl9CMzaVLCkp5rKupbvx52kg/edit?usp=sharing'\n",
    "\n",
    "gs = googleSheetsAPI(url)\n",
    "\n",
    "gs.getParticipants()"
   ]
  }
 ],
 "metadata": {
  "kernelspec": {
   "display_name": "Python 3",
   "language": "python",
   "name": "python3"
  },
  "language_info": {
   "codemirror_mode": {
    "name": "ipython",
    "version": 3
   },
   "file_extension": ".py",
   "mimetype": "text/x-python",
   "name": "python",
   "nbconvert_exporter": "python",
   "pygments_lexer": "ipython3",
   "version": "3.11.3"
  }
 },
 "nbformat": 4,
 "nbformat_minor": 2
}
